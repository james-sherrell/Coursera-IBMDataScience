{
 "cells": [
  {
   "cell_type": "markdown",
   "id": "b0022036-8842-4a45-8b9c-976127980725",
   "metadata": {},
   "source": [
    "# Data Science Tools and Ecosystem\n",
    "## Author\n",
    "James Sherrell"
   ]
  },
  {
   "cell_type": "markdown",
   "id": "4b11a453-91d7-46f0-9358-92a70fc67334",
   "metadata": {},
   "source": [
    "This notebook summarizes data science tools and ecosystem."
   ]
  },
  {
   "cell_type": "markdown",
   "id": "f00fe2ad-6a60-46b1-b2a2-e704e4111f00",
   "metadata": {},
   "source": [
    "**Objectives**:\n",
    "* List popular languages for Data Science\n",
    "* List common libraries for Data Science\n",
    "* List some Data Science tools "
   ]
  },
  {
   "cell_type": "markdown",
   "id": "645c4880-01ad-4f66-bb97-25de59e50638",
   "metadata": {},
   "source": [
    "Some of the popular languages that Data Scientists use are:\n",
    "\n",
    "1. Python\n",
    "2. R\n",
    "3. Java-ML"
   ]
  },
  {
   "cell_type": "markdown",
   "id": "29b71a56-78d0-4d77-bd3d-1f2dcfe7697f",
   "metadata": {},
   "source": [
    "Some of the common libraries used by Data Scientists include:\n",
    "\n",
    "1. NLTK\n",
    "2. PyTorch\n",
    "3. Pandas"
   ]
  },
  {
   "cell_type": "markdown",
   "id": "ee27255b-44ba-454e-95ca-a7f43fba3476",
   "metadata": {},
   "source": [
    "| Data Science Tools|\n",
    "| - |\n",
    "| JupyterLab |\n",
    "| RStudio |\n",
    "| WatsonX |"
   ]
  },
  {
   "cell_type": "markdown",
   "id": "a0ad707e-6918-4a6b-b1ea-cf8bb0591338",
   "metadata": {},
   "source": [
    "### Below are a few examples of evaluating arithmetic expressions in Python."
   ]
  },
  {
   "cell_type": "code",
   "execution_count": 2,
   "id": "0a17de5e-0968-4e4c-bafe-96daa255780c",
   "metadata": {},
   "outputs": [
    {
     "data": {
      "text/plain": [
       "17"
      ]
     },
     "execution_count": 2,
     "metadata": {},
     "output_type": "execute_result"
    }
   ],
   "source": [
    "#This a simple arithmetic expression to mutiply then add integers\n",
    "\n",
    "(3*4)+5"
   ]
  },
  {
   "cell_type": "code",
   "execution_count": 3,
   "id": "49e1785e-d9d4-4eb3-8703-a6725e673df4",
   "metadata": {},
   "outputs": [
    {
     "data": {
      "text/plain": [
       "3.3333333333333335"
      ]
     },
     "execution_count": 3,
     "metadata": {},
     "output_type": "execute_result"
    }
   ],
   "source": [
    "#This will convert 200 minutes to hours by diving by 60\n",
    "\n",
    "200/60"
   ]
  },
  {
   "cell_type": "code",
   "execution_count": null,
   "id": "dcc99e37-61d7-4298-981f-6c4a9ba1970e",
   "metadata": {},
   "outputs": [],
   "source": []
  }
 ],
 "metadata": {
  "kernelspec": {
   "display_name": "Python 3 (ipykernel)",
   "language": "python",
   "name": "python3"
  },
  "language_info": {
   "codemirror_mode": {
    "name": "ipython",
    "version": 3
   },
   "file_extension": ".py",
   "mimetype": "text/x-python",
   "name": "python",
   "nbconvert_exporter": "python",
   "pygments_lexer": "ipython3",
   "version": "3.9.19"
  }
 },
 "nbformat": 4,
 "nbformat_minor": 5
}
